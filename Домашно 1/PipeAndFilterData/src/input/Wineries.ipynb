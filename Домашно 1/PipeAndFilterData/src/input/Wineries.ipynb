{
  "nbformat": 4,
  "nbformat_minor": 0,
  "metadata": {
    "colab": {
      "provenance": []
    },
    "kernelspec": {
      "name": "python3",
      "display_name": "Python 3"
    },
    "language_info": {
      "name": "python"
    }
  },
  "cells": [
    {
      "cell_type": "code",
      "execution_count": null,
      "metadata": {
        "colab": {
          "base_uri": "https://localhost:8080/"
        },
        "id": "YInzfvjgIQrt",
        "outputId": "94ad9a47-cdf5-46e0-8dff-a44215c52fc4"
      },
      "outputs": [
        {
          "output_type": "stream",
          "name": "stdout",
          "text": [
            "Collecting overpy\n",
            "  Downloading overpy-0.6.tar.gz (47 kB)\n",
            "\u001b[2K     \u001b[90m━━━━━━━━━━━━━━━━━━━━━━━━━━━━━━━━━━━━━━━━\u001b[0m \u001b[32m47.9/47.9 kB\u001b[0m \u001b[31m1.5 MB/s\u001b[0m eta \u001b[36m0:00:00\u001b[0m\n",
            "\u001b[?25h  Preparing metadata (setup.py) ... \u001b[?25l\u001b[?25hdone\n",
            "Building wheels for collected packages: overpy\n",
            "  Building wheel for overpy (setup.py) ... \u001b[?25l\u001b[?25hdone\n",
            "  Created wheel for overpy: filename=overpy-0.6-py3-none-any.whl size=14092 sha256=e79695624729140a784b52d946678807088f33c0a0381aa7caf6a6ce32ef24e8\n",
            "  Stored in directory: /root/.cache/pip/wheels/6f/05/ef/529f51b5983091d5b53077e4f2f81d052a939573c5dd07acfc\n",
            "Successfully built overpy\n",
            "Installing collected packages: overpy\n",
            "Successfully installed overpy-0.6\n"
          ]
        }
      ],
      "source": [
        "pip install overpy\n"
      ]
    },
    {
      "cell_type": "code",
      "source": [
        "import requests\n",
        "import csv\n",
        "\n",
        "overpass_url = \"https://overpass-api.de/api/interpreter\"\n",
        "overpass_query = \"\"\"\n",
        "[out:csv(::id,name, website, phone, opening_hours)];\n",
        "node[\"craft\"=\"winery\"](area.a);\n",
        "way[\"craft\"=\"winery\"](area.a);\n",
        "out;\n",
        "\"\"\"\n",
        "\n",
        "response = requests.post(overpass_url, data={\"data\": overpass_query})\n",
        "\n",
        "# Check if the request was successful\n",
        "if response.status_code == 200:\n",
        "    # Parse CSV content from the response\n",
        "    csv_content = response.text\n",
        "\n",
        "    # Save CSV content to a file\n",
        "    with open(\"wineries.csv\", \"w\", newline=\"\", encoding=\"utf-8\") as file:\n",
        "        file.write(csv_content)\n",
        "\n",
        "    print(\"Data exported successfully to 'wineries.csv'.\")\n",
        "else:\n",
        "    print(\"Error:\", response.status_code)\n",
        "    print(response.text)"
      ],
      "metadata": {
        "colab": {
          "base_uri": "https://localhost:8080/"
        },
        "id": "FPpXhIf4XPoo",
        "outputId": "e9be2355-940c-4fdd-cbd5-64ec9d9aee18"
      },
      "execution_count": 28,
      "outputs": [
        {
          "output_type": "stream",
          "name": "stdout",
          "text": [
            "Data exported successfully to 'wineries.csv'.\n"
          ]
        }
      ]
    },
    {
      "cell_type": "code",
      "source": [],
      "metadata": {
        "id": "o1V2UXl8iAhr"
      },
      "execution_count": null,
      "outputs": []
    }
  ]
}